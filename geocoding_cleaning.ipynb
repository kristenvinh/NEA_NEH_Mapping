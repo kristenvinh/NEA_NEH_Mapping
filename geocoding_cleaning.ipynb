{
 "cells": [
  {
   "cell_type": "code",
   "execution_count": 1,
   "metadata": {},
   "outputs": [],
   "source": [
    "import pandas as pd\n",
    "import googlemaps\n",
    "import os\n",
    "\n",
    "#Get API Key from TXT file -- in gitignore\n",
    "apikey = 'apikey.txt'\n",
    "\n"
   ]
  },
  {
   "cell_type": "code",
   "execution_count": 2,
   "metadata": {},
   "outputs": [],
   "source": [
    "#Return contents of a file\n",
    "def get_file_contents(filename):\n",
    "    \"\"\" Given a filename,\n",
    "        return the contents of that file\n",
    "    \"\"\"\n",
    "    try:\n",
    "        with open(filename, 'r') as f:\n",
    "            # It's assumed our file contains a single line,\n",
    "            # with our API key\n",
    "            return f.read().strip()\n",
    "    except FileNotFoundError:\n",
    "        print(\"'%s' file not found\" % filename)\n",
    "api_key = get_file_contents(apikey)"
   ]
  },
  {
   "cell_type": "code",
   "execution_count": 3,
   "metadata": {},
   "outputs": [],
   "source": [
    "#Run Google Maps\n",
    "gmaps = googlemaps.Client(key=api_key)"
   ]
  },
  {
   "cell_type": "code",
   "execution_count": 4,
   "metadata": {},
   "outputs": [
    {
     "name": "stdout",
     "output_type": "stream",
     "text": [
      "2021.xlsx\n"
     ]
    },
    {
     "name": "stderr",
     "output_type": "stream",
     "text": [
      "/Users/kristenvinh/anaconda3/lib/python3.11/site-packages/openpyxl/styles/stylesheet.py:226: UserWarning: Workbook contains no default style, apply openpyxl's default\n",
      "  warn(\"Workbook contains no default style, apply openpyxl's default\")\n"
     ]
    },
    {
     "name": "stdout",
     "output_type": "stream",
     "text": [
      "2020.xlsx\n"
     ]
    },
    {
     "name": "stderr",
     "output_type": "stream",
     "text": [
      "/Users/kristenvinh/anaconda3/lib/python3.11/site-packages/openpyxl/styles/stylesheet.py:226: UserWarning: Workbook contains no default style, apply openpyxl's default\n",
      "  warn(\"Workbook contains no default style, apply openpyxl's default\")\n"
     ]
    },
    {
     "name": "stdout",
     "output_type": "stream",
     "text": [
      "2024.xlsx\n"
     ]
    },
    {
     "name": "stderr",
     "output_type": "stream",
     "text": [
      "/Users/kristenvinh/anaconda3/lib/python3.11/site-packages/openpyxl/styles/stylesheet.py:226: UserWarning: Workbook contains no default style, apply openpyxl's default\n",
      "  warn(\"Workbook contains no default style, apply openpyxl's default\")\n"
     ]
    },
    {
     "name": "stdout",
     "output_type": "stream",
     "text": [
      "2023.xlsx\n"
     ]
    },
    {
     "name": "stderr",
     "output_type": "stream",
     "text": [
      "/Users/kristenvinh/anaconda3/lib/python3.11/site-packages/openpyxl/styles/stylesheet.py:226: UserWarning: Workbook contains no default style, apply openpyxl's default\n",
      "  warn(\"Workbook contains no default style, apply openpyxl's default\")\n"
     ]
    },
    {
     "name": "stdout",
     "output_type": "stream",
     "text": [
      "2022.xlsx\n"
     ]
    },
    {
     "name": "stderr",
     "output_type": "stream",
     "text": [
      "/Users/kristenvinh/anaconda3/lib/python3.11/site-packages/openpyxl/styles/stylesheet.py:226: UserWarning: Workbook contains no default style, apply openpyxl's default\n",
      "  warn(\"Workbook contains no default style, apply openpyxl's default\")\n"
     ]
    }
   ],
   "source": [
    "#Import files\n",
    "\n",
    "#First NEA files, of which there are multiple\n",
    "files = os.listdir('NEA Grants')\n",
    "the_list = []\n",
    "\n",
    "\n",
    "for f in files:\n",
    "    print(f)\n",
    "    data = pd.read_excel('NEA Grants/' + f)\n",
    "    the_list.append(data)\n",
    "\n",
    "NEA = pd.concat(the_list)\n",
    "NEH = pd.read_excel('NEHAwardSearchResults.xlsx')"
   ]
  },
  {
   "cell_type": "code",
   "execution_count": 5,
   "metadata": {},
   "outputs": [],
   "source": [
    "#Delete Rows with nan values\n",
    "NEA = NEA.dropna(how='all', inplace=False)\n",
    "NEH = NEH.dropna(how='all', inplace=False)"
   ]
  },
  {
   "cell_type": "code",
   "execution_count": 6,
   "metadata": {},
   "outputs": [],
   "source": [
    "#Delete Cognressional District col so it's not confused with later imports\n",
    "del NEA['Congressional District']"
   ]
  },
  {
   "cell_type": "code",
   "execution_count": 7,
   "metadata": {},
   "outputs": [],
   "source": [
    "#Exporting Cleaned Full Grant list\n",
    "NEA.to_csv(\"NEA_Full_Grant.csv\")\n",
    "NEH.to_csv(\"NEH_Full_Grant.csv\")"
   ]
  },
  {
   "cell_type": "code",
   "execution_count": 8,
   "metadata": {},
   "outputs": [],
   "source": [
    "#Get only columns only needed for Lat/Long Look-Up\n",
    "NEA_Orgs = NEA[['Organization Name','City', 'State','Zip']]\n",
    "NEH_Orgs = NEH[['Organization', 'Organization City', 'Organization State',\n",
    "       'Organization Postal Code',]]"
   ]
  },
  {
   "cell_type": "code",
   "execution_count": 9,
   "metadata": {},
   "outputs": [],
   "source": [
    "#Drop Duplicates\n",
    "NEA_Orgs = NEA_Orgs.drop_duplicates()\n",
    "NEH_Orgs = NEH_Orgs.drop_duplicates()"
   ]
  },
  {
   "cell_type": "code",
   "execution_count": 10,
   "metadata": {},
   "outputs": [],
   "source": [
    "#Create full address column for lookup\n",
    "NEA_Orgs['Full Address'] = NEA_Orgs['Organization Name'] + \", \" + NEA_Orgs['City'] + \", \" + NEA_Orgs['State'] + \" \" +str(NEA_Orgs['Zip'])\n",
    "NEH_Orgs['Full Address'] = NEH_Orgs['Organization'] + \", \" + NEH_Orgs['Organization City'] + \", \" + NEH_Orgs['Organization State'] + \" \" + str(NEH_Orgs['Organization Postal Code'])"
   ]
  },
  {
   "cell_type": "code",
   "execution_count": 11,
   "metadata": {},
   "outputs": [
    {
     "data": {
      "text/plain": [
       "(5751, 5)"
      ]
     },
     "execution_count": 11,
     "metadata": {},
     "output_type": "execute_result"
    }
   ],
   "source": [
    "#Check size of NEA_Orgs\n",
    "NEA_Orgs.shape"
   ]
  },
  {
   "cell_type": "code",
   "execution_count": 12,
   "metadata": {},
   "outputs": [
    {
     "data": {
      "text/plain": [
       "(1745, 5)"
      ]
     },
     "execution_count": 12,
     "metadata": {},
     "output_type": "execute_result"
    }
   ],
   "source": [
    "#Check size of NEH_Orgs\n",
    "NEH_Orgs.shape"
   ]
  },
  {
   "cell_type": "code",
   "execution_count": null,
   "metadata": {},
   "outputs": [],
   "source": [
    "#Function to run geocoding\n",
    "def geocoding(df):\n",
    "    text_list = df[\"Full Address\"].to_list()\n",
    "    Lat_List = []\n",
    "    Long_List = []\n",
    "    for address in text_list:\n",
    "        geo = gmaps.geocode(address)\n",
    "        try: \n",
    "            lat = geo[0]['geometry']['bounds']['northeast']['lat']   \n",
    "            lng = geo[0]['geometry']['bounds']['northeast']['lng']\n",
    "\n",
    "        except:\n",
    "            try: \n",
    "                lat = geo[0]['geometry']['location']['lat']   \n",
    "                lng = geo[0]['geometry']['location']['lng'] \n",
    "            except:\n",
    "                lat = \"none\"\n",
    "                lng = \"none\"\n",
    "        Lat_List.append(lat)\n",
    "        Long_List.append(lng)\n",
    "    df[\"Latitude\"] = Lat_List\n",
    "    df[\"Longitude\"] = Long_List\n",
    "    return df"
   ]
  },
  {
   "cell_type": "code",
   "execution_count": null,
   "metadata": {},
   "outputs": [
    {
     "name": "stderr",
     "output_type": "stream",
     "text": [
      "/var/folders/6x/th_yvny15yz5xv9xj0tb08yr0000gn/T/ipykernel_45516/2632046218.py:21: SettingWithCopyWarning: \n",
      "A value is trying to be set on a copy of a slice from a DataFrame.\n",
      "Try using .loc[row_indexer,col_indexer] = value instead\n",
      "\n",
      "See the caveats in the documentation: https://pandas.pydata.org/pandas-docs/stable/user_guide/indexing.html#returning-a-view-versus-a-copy\n",
      "  df[\"Latitude\"] = Lat_List\n",
      "/var/folders/6x/th_yvny15yz5xv9xj0tb08yr0000gn/T/ipykernel_45516/2632046218.py:22: SettingWithCopyWarning: \n",
      "A value is trying to be set on a copy of a slice from a DataFrame.\n",
      "Try using .loc[row_indexer,col_indexer] = value instead\n",
      "\n",
      "See the caveats in the documentation: https://pandas.pydata.org/pandas-docs/stable/user_guide/indexing.html#returning-a-view-versus-a-copy\n",
      "  df[\"Longitude\"] = Long_List\n",
      "/var/folders/6x/th_yvny15yz5xv9xj0tb08yr0000gn/T/ipykernel_45516/2632046218.py:21: SettingWithCopyWarning: \n",
      "A value is trying to be set on a copy of a slice from a DataFrame.\n",
      "Try using .loc[row_indexer,col_indexer] = value instead\n",
      "\n",
      "See the caveats in the documentation: https://pandas.pydata.org/pandas-docs/stable/user_guide/indexing.html#returning-a-view-versus-a-copy\n",
      "  df[\"Latitude\"] = Lat_List\n",
      "/var/folders/6x/th_yvny15yz5xv9xj0tb08yr0000gn/T/ipykernel_45516/2632046218.py:22: SettingWithCopyWarning: \n",
      "A value is trying to be set on a copy of a slice from a DataFrame.\n",
      "Try using .loc[row_indexer,col_indexer] = value instead\n",
      "\n",
      "See the caveats in the documentation: https://pandas.pydata.org/pandas-docs/stable/user_guide/indexing.html#returning-a-view-versus-a-copy\n",
      "  df[\"Longitude\"] = Long_List\n"
     ]
    }
   ],
   "source": [
    "#Creating a Quick test case to make sure all is working well\n",
    "\n",
    "NEA_test = NEA_Orgs.head(10)\n",
    "NEH_test = NEH_Orgs.head(10)\n",
    "\n",
    "NEA_test = geocoding(NEA_test)\n",
    "NEH_test = geocoding(NEH_test)"
   ]
  },
  {
   "cell_type": "code",
   "execution_count": null,
   "metadata": {},
   "outputs": [
    {
     "data": {
      "text/html": [
       "<div>\n",
       "<style scoped>\n",
       "    .dataframe tbody tr th:only-of-type {\n",
       "        vertical-align: middle;\n",
       "    }\n",
       "\n",
       "    .dataframe tbody tr th {\n",
       "        vertical-align: top;\n",
       "    }\n",
       "\n",
       "    .dataframe thead th {\n",
       "        text-align: right;\n",
       "    }\n",
       "</style>\n",
       "<table border=\"1\" class=\"dataframe\">\n",
       "  <thead>\n",
       "    <tr style=\"text-align: right;\">\n",
       "      <th></th>\n",
       "      <th>Organization Name</th>\n",
       "      <th>City</th>\n",
       "      <th>State</th>\n",
       "      <th>Zip</th>\n",
       "      <th>Full Address</th>\n",
       "    </tr>\n",
       "  </thead>\n",
       "  <tbody>\n",
       "    <tr>\n",
       "      <th>1</th>\n",
       "      <td>1708 Gallery</td>\n",
       "      <td>RICHMOND</td>\n",
       "      <td>VA</td>\n",
       "      <td>23220-4218</td>\n",
       "      <td>1708 Gallery, RICHMOND, VA 1       23220-4218\\...</td>\n",
       "    </tr>\n",
       "    <tr>\n",
       "      <th>2</th>\n",
       "      <td>18th Street Arts Complex</td>\n",
       "      <td>SANTA MONICA</td>\n",
       "      <td>CA</td>\n",
       "      <td>90404-3807</td>\n",
       "      <td>18th Street Arts Complex, SANTA MONICA, CA 1  ...</td>\n",
       "    </tr>\n",
       "    <tr>\n",
       "      <th>3</th>\n",
       "      <td>369th Experience, Inc.</td>\n",
       "      <td>WASHINGTON</td>\n",
       "      <td>DC</td>\n",
       "      <td>20003-1682</td>\n",
       "      <td>369th Experience, Inc., WASHINGTON, DC 1      ...</td>\n",
       "    </tr>\n",
       "    <tr>\n",
       "      <th>4</th>\n",
       "      <td>3Arts, Inc</td>\n",
       "      <td>CHICAGO</td>\n",
       "      <td>IL</td>\n",
       "      <td>60606-3482</td>\n",
       "      <td>3Arts, Inc, CHICAGO, IL 1       23220-4218\\n2 ...</td>\n",
       "    </tr>\n",
       "    <tr>\n",
       "      <th>5</th>\n",
       "      <td>500 Sails</td>\n",
       "      <td>TANAPAG, SAIPAN</td>\n",
       "      <td>MP</td>\n",
       "      <td>96950-8901</td>\n",
       "      <td>500 Sails, TANAPAG, SAIPAN, MP 1       23220-4...</td>\n",
       "    </tr>\n",
       "    <tr>\n",
       "      <th>...</th>\n",
       "      <td>...</td>\n",
       "      <td>...</td>\n",
       "      <td>...</td>\n",
       "      <td>...</td>\n",
       "      <td>...</td>\n",
       "    </tr>\n",
       "    <tr>\n",
       "      <th>3936</th>\n",
       "      <td>Youth in Focus</td>\n",
       "      <td>SEATTLE</td>\n",
       "      <td>WA</td>\n",
       "      <td>98144-4645</td>\n",
       "      <td>Youth in Focus, SEATTLE, WA 1       23220-4218...</td>\n",
       "    </tr>\n",
       "    <tr>\n",
       "      <th>3937</th>\n",
       "      <td>Youth Justice Network, Inc.</td>\n",
       "      <td>NEW YORK</td>\n",
       "      <td>NY</td>\n",
       "      <td>10027-4590</td>\n",
       "      <td>Youth Justice Network, Inc., NEW YORK, NY 1   ...</td>\n",
       "    </tr>\n",
       "    <tr>\n",
       "      <th>3941</th>\n",
       "      <td>Youth Spirit Artworks Inc.</td>\n",
       "      <td>BERKELEY</td>\n",
       "      <td>CA</td>\n",
       "      <td>94703-2713</td>\n",
       "      <td>Youth Spirit Artworks Inc., BERKELEY, CA 1    ...</td>\n",
       "    </tr>\n",
       "    <tr>\n",
       "      <th>3954</th>\n",
       "      <td>Zorongo Flamenco, Inc.</td>\n",
       "      <td>MINNEAPOLIS</td>\n",
       "      <td>MN</td>\n",
       "      <td>55406-2630</td>\n",
       "      <td>Zorongo Flamenco, Inc., MINNEAPOLIS, MN 1     ...</td>\n",
       "    </tr>\n",
       "    <tr>\n",
       "      <th>3957</th>\n",
       "      <td>Zulu, Shaka</td>\n",
       "      <td>New Orleans</td>\n",
       "      <td>LA</td>\n",
       "      <td>70116-2874</td>\n",
       "      <td>Zulu, Shaka, New Orleans, LA 1       23220-421...</td>\n",
       "    </tr>\n",
       "  </tbody>\n",
       "</table>\n",
       "<p>5751 rows × 5 columns</p>\n",
       "</div>"
      ],
      "text/plain": [
       "                Organization Name             City State         Zip  \\\n",
       "1                    1708 Gallery         RICHMOND    VA  23220-4218   \n",
       "2        18th Street Arts Complex     SANTA MONICA    CA  90404-3807   \n",
       "3          369th Experience, Inc.       WASHINGTON    DC  20003-1682   \n",
       "4                      3Arts, Inc          CHICAGO    IL  60606-3482   \n",
       "5                       500 Sails  TANAPAG, SAIPAN    MP  96950-8901   \n",
       "...                           ...              ...   ...         ...   \n",
       "3936               Youth in Focus          SEATTLE    WA  98144-4645   \n",
       "3937  Youth Justice Network, Inc.         NEW YORK    NY  10027-4590   \n",
       "3941   Youth Spirit Artworks Inc.         BERKELEY    CA  94703-2713   \n",
       "3954       Zorongo Flamenco, Inc.      MINNEAPOLIS    MN  55406-2630   \n",
       "3957                  Zulu, Shaka      New Orleans    LA  70116-2874   \n",
       "\n",
       "                                           Full Address  \n",
       "1     1708 Gallery, RICHMOND, VA 1       23220-4218\\...  \n",
       "2     18th Street Arts Complex, SANTA MONICA, CA 1  ...  \n",
       "3     369th Experience, Inc., WASHINGTON, DC 1      ...  \n",
       "4     3Arts, Inc, CHICAGO, IL 1       23220-4218\\n2 ...  \n",
       "5     500 Sails, TANAPAG, SAIPAN, MP 1       23220-4...  \n",
       "...                                                 ...  \n",
       "3936  Youth in Focus, SEATTLE, WA 1       23220-4218...  \n",
       "3937  Youth Justice Network, Inc., NEW YORK, NY 1   ...  \n",
       "3941  Youth Spirit Artworks Inc., BERKELEY, CA 1    ...  \n",
       "3954  Zorongo Flamenco, Inc., MINNEAPOLIS, MN 1     ...  \n",
       "3957  Zulu, Shaka, New Orleans, LA 1       23220-421...  \n",
       "\n",
       "[5751 rows x 5 columns]"
      ]
     },
     "execution_count": 13,
     "metadata": {},
     "output_type": "execute_result"
    }
   ],
   "source": [
    "#Look at NEA test\n",
    "NEA_Orgs"
   ]
  },
  {
   "cell_type": "code",
   "execution_count": null,
   "metadata": {},
   "outputs": [],
   "source": [
    "#Running NEA Geocoding and saving files\n",
    "#Commenting out to not run duplicatively: NEA_Orgs = geocoding(NEA_Orgs)\n",
    "NEA_Orgs.to_csv('NEA Org list with Geocoding.csv', index='False')"
   ]
  },
  {
   "cell_type": "code",
   "execution_count": null,
   "metadata": {},
   "outputs": [],
   "source": [
    "#Running Geocoding and saving files\n",
    "#Commenting out to not run duplicatively: NEA_OrgsNEH_Orgs = geocoding(NEH_Orgs)\n",
    "NEH_Orgs.to_csv('NEH Org list with Geocoding.csv', index='False')"
   ]
  }
 ],
 "metadata": {
  "kernelspec": {
   "display_name": "base",
   "language": "python",
   "name": "python3"
  },
  "language_info": {
   "codemirror_mode": {
    "name": "ipython",
    "version": 3
   },
   "file_extension": ".py",
   "mimetype": "text/x-python",
   "name": "python",
   "nbconvert_exporter": "python",
   "pygments_lexer": "ipython3",
   "version": "3.11.5"
  }
 },
 "nbformat": 4,
 "nbformat_minor": 2
}
